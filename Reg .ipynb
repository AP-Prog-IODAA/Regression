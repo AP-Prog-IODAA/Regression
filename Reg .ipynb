{
 "cells": [
  {
   "cell_type": "markdown",
   "metadata": {},
   "source": [
    "\n",
    "\n",
    "Lien des données : https://www.kaggle.com/datasets/anmolkumar/machine-hack-melanoma-tumor-size-prediction\n"
   ]
  },
  {
   "cell_type": "markdown",
   "metadata": {},
   "source": [
    "***1ère étape***"
   ]
  },
  {
   "cell_type": "markdown",
   "metadata": {},
   "source": [
    "\n",
    " - Charger les données \n",
    " - Exploration statistique : trouver si il y'a des valeurs manquantes et les éliminer si besoin, tests d'anova pour déterminer les corrélations entre variables et tumor_size"
   ]
  },
  {
   "cell_type": "code",
   "execution_count": 201,
   "metadata": {},
   "outputs": [],
   "source": [
    "#Importation des modules\n",
    "import numpy as np\n",
    "import matplotlib.pyplot as plt\n",
    "import csv\n",
    "import pandas as pd"
   ]
  },
  {
   "cell_type": "code",
   "execution_count": 202,
   "metadata": {},
   "outputs": [
    {
     "data": {
      "text/html": [
       "<div>\n",
       "<style scoped>\n",
       "    .dataframe tbody tr th:only-of-type {\n",
       "        vertical-align: middle;\n",
       "    }\n",
       "\n",
       "    .dataframe tbody tr th {\n",
       "        vertical-align: top;\n",
       "    }\n",
       "\n",
       "    .dataframe thead th {\n",
       "        text-align: right;\n",
       "    }\n",
       "</style>\n",
       "<table border=\"1\" class=\"dataframe\">\n",
       "  <thead>\n",
       "    <tr style=\"text-align: right;\">\n",
       "      <th></th>\n",
       "      <th>mass_npea</th>\n",
       "      <th>size_npear</th>\n",
       "      <th>malign_ratio</th>\n",
       "      <th>damage_size</th>\n",
       "      <th>exposed_area</th>\n",
       "      <th>std_dev_malign</th>\n",
       "      <th>err_malign</th>\n",
       "      <th>malign_penalty</th>\n",
       "      <th>damage_ratio</th>\n",
       "      <th>tumor_size</th>\n",
       "    </tr>\n",
       "  </thead>\n",
       "  <tbody>\n",
       "    <tr>\n",
       "      <th>0</th>\n",
       "      <td>6930.90</td>\n",
       "      <td>2919.02</td>\n",
       "      <td>0.42116</td>\n",
       "      <td>51.8298</td>\n",
       "      <td>9.888294e+05</td>\n",
       "      <td>109.487</td>\n",
       "      <td>2758.76</td>\n",
       "      <td>72</td>\n",
       "      <td>39.3620</td>\n",
       "      <td>14.103</td>\n",
       "    </tr>\n",
       "    <tr>\n",
       "      <th>1</th>\n",
       "      <td>15635.70</td>\n",
       "      <td>4879.36</td>\n",
       "      <td>0.31206</td>\n",
       "      <td>223.5500</td>\n",
       "      <td>2.058426e+06</td>\n",
       "      <td>248.881</td>\n",
       "      <td>5952.53</td>\n",
       "      <td>240</td>\n",
       "      <td>22.0253</td>\n",
       "      <td>2.648</td>\n",
       "    </tr>\n",
       "    <tr>\n",
       "      <th>2</th>\n",
       "      <td>10376.20</td>\n",
       "      <td>2613.88</td>\n",
       "      <td>0.25191</td>\n",
       "      <td>127.3370</td>\n",
       "      <td>1.434676e+06</td>\n",
       "      <td>160.093</td>\n",
       "      <td>4635.26</td>\n",
       "      <td>73</td>\n",
       "      <td>29.9963</td>\n",
       "      <td>1.688</td>\n",
       "    </tr>\n",
       "    <tr>\n",
       "      <th>3</th>\n",
       "      <td>13093.80</td>\n",
       "      <td>4510.06</td>\n",
       "      <td>0.34444</td>\n",
       "      <td>155.4400</td>\n",
       "      <td>1.812195e+06</td>\n",
       "      <td>173.015</td>\n",
       "      <td>5273.87</td>\n",
       "      <td>32</td>\n",
       "      <td>28.1354</td>\n",
       "      <td>3.796</td>\n",
       "    </tr>\n",
       "    <tr>\n",
       "      <th>4</th>\n",
       "      <td>7545.21</td>\n",
       "      <td>2882.36</td>\n",
       "      <td>0.38201</td>\n",
       "      <td>85.1237</td>\n",
       "      <td>1.043918e+06</td>\n",
       "      <td>124.414</td>\n",
       "      <td>3263.35</td>\n",
       "      <td>57</td>\n",
       "      <td>35.0200</td>\n",
       "      <td>18.023</td>\n",
       "    </tr>\n",
       "  </tbody>\n",
       "</table>\n",
       "</div>"
      ],
      "text/plain": [
       "   mass_npea  size_npear  malign_ratio  damage_size  exposed_area  \\\n",
       "0    6930.90     2919.02       0.42116      51.8298  9.888294e+05   \n",
       "1   15635.70     4879.36       0.31206     223.5500  2.058426e+06   \n",
       "2   10376.20     2613.88       0.25191     127.3370  1.434676e+06   \n",
       "3   13093.80     4510.06       0.34444     155.4400  1.812195e+06   \n",
       "4    7545.21     2882.36       0.38201      85.1237  1.043918e+06   \n",
       "\n",
       "   std_dev_malign  err_malign  malign_penalty  damage_ratio  tumor_size  \n",
       "0         109.487     2758.76              72       39.3620      14.103  \n",
       "1         248.881     5952.53             240       22.0253       2.648  \n",
       "2         160.093     4635.26              73       29.9963       1.688  \n",
       "3         173.015     5273.87              32       28.1354       3.796  \n",
       "4         124.414     3263.35              57       35.0200      18.023  "
      ]
     },
     "execution_count": 202,
     "metadata": {},
     "output_type": "execute_result"
    }
   ],
   "source": [
    "#chargement des données \n",
    "#train_set = pd.read_csv('train.csv')\n",
    "#train_set.head()\n",
    "\n",
    "regression_train = pd.read_csv('/Users/nada/Regression/train.csv', delimiter=',')\n",
    "regression_train.head()\n",
    "\n"
   ]
  },
  {
   "cell_type": "code",
   "execution_count": 203,
   "metadata": {},
   "outputs": [],
   "source": [
    "\n",
    "# #ouverture du csv train\n",
    "# with open('train.csv', 'r') as fichier:\n",
    "#     train_csv = csv.reader(fichier)\n",
    "#     #sauter la première ligne\n",
    "#     next(train_csv)\n",
    "#     tableau_train_sans_première_ligne = [ligne[:] for ligne in train_csv]\n",
    "\n",
    "# #conversion en matrice numpy\n",
    "# tableau_np = np.array(tableau_train_sans_première_ligne, dtype=float) \n",
    "# X_train = np.array(tableau_np[:,:-1], dtype=float) \n",
    "# Y_train = np.array(tableau_np[:,-1], dtype=float)\n",
    "# #.reshape([9146,1]\n",
    "\n",
    "# #ouverture du csv test et sample_submission\n",
    "# with open('test.csv', 'r') as fichier:\n",
    "#     test_csv = csv.reader(fichier)\n",
    "#     #sauter la première ligne\n",
    "#     next(test_csv)\n",
    "#     tableau_test_sans_première_ligne = [ligne[:] for ligne in test_csv]\n",
    "\n",
    "# #conversion en matrice numpy\n",
    "# X_test = np.array(tableau_test_sans_première_ligne, dtype=float)\n",
    "\n",
    "# with open('sample_submission.csv', 'r') as fichier:\n",
    "#     sample_csv = csv.reader(fichier)\n",
    "#     #sauter la première ligne\n",
    "#     next(sample_csv)\n",
    "#     tableau_sample_sans_première_ligne = [ligne[:] for ligne in sample_csv]\n",
    "\n",
    "# Y_test = np.array(tableau_sample_sans_première_ligne, dtype=float) \n",
    "\n",
    "# #affichage du format de chaque matrice\n",
    "# print(X_train.shape)\n",
    "# print(Y_train.shape)\n",
    "# print(X_test.shape)\n",
    "# print(Y_test.shape)\n"
   ]
  },
  {
   "cell_type": "code",
   "execution_count": 204,
   "metadata": {},
   "outputs": [
    {
     "data": {
      "text/html": [
       "<div>\n",
       "<style scoped>\n",
       "    .dataframe tbody tr th:only-of-type {\n",
       "        vertical-align: middle;\n",
       "    }\n",
       "\n",
       "    .dataframe tbody tr th {\n",
       "        vertical-align: top;\n",
       "    }\n",
       "\n",
       "    .dataframe thead th {\n",
       "        text-align: right;\n",
       "    }\n",
       "</style>\n",
       "<table border=\"1\" class=\"dataframe\">\n",
       "  <thead>\n",
       "    <tr style=\"text-align: right;\">\n",
       "      <th></th>\n",
       "      <th>mass_npea</th>\n",
       "      <th>size_npear</th>\n",
       "      <th>malign_ratio</th>\n",
       "      <th>damage_size</th>\n",
       "      <th>exposed_area</th>\n",
       "      <th>std_dev_malign</th>\n",
       "      <th>err_malign</th>\n",
       "      <th>malign_penalty</th>\n",
       "      <th>damage_ratio</th>\n",
       "    </tr>\n",
       "  </thead>\n",
       "  <tbody>\n",
       "    <tr>\n",
       "      <th>0</th>\n",
       "      <td>6930.90</td>\n",
       "      <td>2919.02</td>\n",
       "      <td>0.42116</td>\n",
       "      <td>51.8298</td>\n",
       "      <td>9.888294e+05</td>\n",
       "      <td>109.487</td>\n",
       "      <td>2758.76</td>\n",
       "      <td>72</td>\n",
       "      <td>39.3620</td>\n",
       "    </tr>\n",
       "    <tr>\n",
       "      <th>1</th>\n",
       "      <td>15635.70</td>\n",
       "      <td>4879.36</td>\n",
       "      <td>0.31206</td>\n",
       "      <td>223.5500</td>\n",
       "      <td>2.058426e+06</td>\n",
       "      <td>248.881</td>\n",
       "      <td>5952.53</td>\n",
       "      <td>240</td>\n",
       "      <td>22.0253</td>\n",
       "    </tr>\n",
       "    <tr>\n",
       "      <th>2</th>\n",
       "      <td>10376.20</td>\n",
       "      <td>2613.88</td>\n",
       "      <td>0.25191</td>\n",
       "      <td>127.3370</td>\n",
       "      <td>1.434676e+06</td>\n",
       "      <td>160.093</td>\n",
       "      <td>4635.26</td>\n",
       "      <td>73</td>\n",
       "      <td>29.9963</td>\n",
       "    </tr>\n",
       "    <tr>\n",
       "      <th>3</th>\n",
       "      <td>13093.80</td>\n",
       "      <td>4510.06</td>\n",
       "      <td>0.34444</td>\n",
       "      <td>155.4400</td>\n",
       "      <td>1.812195e+06</td>\n",
       "      <td>173.015</td>\n",
       "      <td>5273.87</td>\n",
       "      <td>32</td>\n",
       "      <td>28.1354</td>\n",
       "    </tr>\n",
       "    <tr>\n",
       "      <th>4</th>\n",
       "      <td>7545.21</td>\n",
       "      <td>2882.36</td>\n",
       "      <td>0.38201</td>\n",
       "      <td>85.1237</td>\n",
       "      <td>1.043918e+06</td>\n",
       "      <td>124.414</td>\n",
       "      <td>3263.35</td>\n",
       "      <td>57</td>\n",
       "      <td>35.0200</td>\n",
       "    </tr>\n",
       "  </tbody>\n",
       "</table>\n",
       "</div>"
      ],
      "text/plain": [
       "   mass_npea  size_npear  malign_ratio  damage_size  exposed_area  \\\n",
       "0    6930.90     2919.02       0.42116      51.8298  9.888294e+05   \n",
       "1   15635.70     4879.36       0.31206     223.5500  2.058426e+06   \n",
       "2   10376.20     2613.88       0.25191     127.3370  1.434676e+06   \n",
       "3   13093.80     4510.06       0.34444     155.4400  1.812195e+06   \n",
       "4    7545.21     2882.36       0.38201      85.1237  1.043918e+06   \n",
       "\n",
       "   std_dev_malign  err_malign  malign_penalty  damage_ratio  \n",
       "0         109.487     2758.76              72       39.3620  \n",
       "1         248.881     5952.53             240       22.0253  \n",
       "2         160.093     4635.26              73       29.9963  \n",
       "3         173.015     5273.87              32       28.1354  \n",
       "4         124.414     3263.35              57       35.0200  "
      ]
     },
     "execution_count": 204,
     "metadata": {},
     "output_type": "execute_result"
    }
   ],
   "source": [
    "#2eme tentative\n",
    "df = pd.read_csv('train.csv')\n",
    "df.head()\n",
    "\n",
    "X = df.drop(columns=['tumor_size'])\n",
    "X.head()\n"
   ]
  },
  {
   "cell_type": "code",
   "execution_count": 205,
   "metadata": {},
   "outputs": [
    {
     "data": {
      "text/html": [
       "<div>\n",
       "<style scoped>\n",
       "    .dataframe tbody tr th:only-of-type {\n",
       "        vertical-align: middle;\n",
       "    }\n",
       "\n",
       "    .dataframe tbody tr th {\n",
       "        vertical-align: top;\n",
       "    }\n",
       "\n",
       "    .dataframe thead th {\n",
       "        text-align: right;\n",
       "    }\n",
       "</style>\n",
       "<table border=\"1\" class=\"dataframe\">\n",
       "  <thead>\n",
       "    <tr style=\"text-align: right;\">\n",
       "      <th></th>\n",
       "      <th>tumor_size</th>\n",
       "    </tr>\n",
       "  </thead>\n",
       "  <tbody>\n",
       "    <tr>\n",
       "      <th>0</th>\n",
       "      <td>14.103</td>\n",
       "    </tr>\n",
       "    <tr>\n",
       "      <th>1</th>\n",
       "      <td>2.648</td>\n",
       "    </tr>\n",
       "    <tr>\n",
       "      <th>2</th>\n",
       "      <td>1.688</td>\n",
       "    </tr>\n",
       "    <tr>\n",
       "      <th>3</th>\n",
       "      <td>3.796</td>\n",
       "    </tr>\n",
       "    <tr>\n",
       "      <th>4</th>\n",
       "      <td>18.023</td>\n",
       "    </tr>\n",
       "  </tbody>\n",
       "</table>\n",
       "</div>"
      ],
      "text/plain": [
       "   tumor_size\n",
       "0      14.103\n",
       "1       2.648\n",
       "2       1.688\n",
       "3       3.796\n",
       "4      18.023"
      ]
     },
     "execution_count": 205,
     "metadata": {},
     "output_type": "execute_result"
    }
   ],
   "source": [
    "y = df.loc[:,['tumor_size']]\n",
    "y.head()"
   ]
  },
  {
   "cell_type": "code",
   "execution_count": 206,
   "metadata": {},
   "outputs": [
    {
     "data": {
      "text/html": [
       "<div>\n",
       "<style scoped>\n",
       "    .dataframe tbody tr th:only-of-type {\n",
       "        vertical-align: middle;\n",
       "    }\n",
       "\n",
       "    .dataframe tbody tr th {\n",
       "        vertical-align: top;\n",
       "    }\n",
       "\n",
       "    .dataframe thead th {\n",
       "        text-align: right;\n",
       "    }\n",
       "</style>\n",
       "<table border=\"1\" class=\"dataframe\">\n",
       "  <thead>\n",
       "    <tr style=\"text-align: right;\">\n",
       "      <th></th>\n",
       "      <th>mass_npea</th>\n",
       "      <th>size_npear</th>\n",
       "      <th>malign_ratio</th>\n",
       "      <th>damage_size</th>\n",
       "      <th>exposed_area</th>\n",
       "      <th>std_dev_malign</th>\n",
       "      <th>err_malign</th>\n",
       "      <th>malign_penalty</th>\n",
       "      <th>damage_ratio</th>\n",
       "    </tr>\n",
       "  </thead>\n",
       "  <tbody>\n",
       "    <tr>\n",
       "      <th>0</th>\n",
       "      <td>4946.44</td>\n",
       "      <td>914.06</td>\n",
       "      <td>0.18479</td>\n",
       "      <td>54.5566</td>\n",
       "      <td>6.628345e+05</td>\n",
       "      <td>67.0525</td>\n",
       "      <td>2301.76</td>\n",
       "      <td>22</td>\n",
       "      <td>41.9554</td>\n",
       "    </tr>\n",
       "    <tr>\n",
       "      <th>1</th>\n",
       "      <td>5613.85</td>\n",
       "      <td>1629.12</td>\n",
       "      <td>0.29019</td>\n",
       "      <td>51.5524</td>\n",
       "      <td>7.842271e+05</td>\n",
       "      <td>80.1986</td>\n",
       "      <td>3235.00</td>\n",
       "      <td>48</td>\n",
       "      <td>40.7410</td>\n",
       "    </tr>\n",
       "    <tr>\n",
       "      <th>2</th>\n",
       "      <td>12421.10</td>\n",
       "      <td>3062.41</td>\n",
       "      <td>0.24654</td>\n",
       "      <td>154.1560</td>\n",
       "      <td>1.763575e+06</td>\n",
       "      <td>186.8590</td>\n",
       "      <td>4684.63</td>\n",
       "      <td>63</td>\n",
       "      <td>29.4778</td>\n",
       "    </tr>\n",
       "    <tr>\n",
       "      <th>3</th>\n",
       "      <td>6830.77</td>\n",
       "      <td>2457.66</td>\n",
       "      <td>0.35979</td>\n",
       "      <td>56.8995</td>\n",
       "      <td>9.296623e+05</td>\n",
       "      <td>92.7361</td>\n",
       "      <td>3211.93</td>\n",
       "      <td>42</td>\n",
       "      <td>38.5027</td>\n",
       "    </tr>\n",
       "    <tr>\n",
       "      <th>4</th>\n",
       "      <td>33407.80</td>\n",
       "      <td>12353.60</td>\n",
       "      <td>0.36978</td>\n",
       "      <td>219.0740</td>\n",
       "      <td>4.595871e+06</td>\n",
       "      <td>493.3370</td>\n",
       "      <td>13389.36</td>\n",
       "      <td>187</td>\n",
       "      <td>26.8449</td>\n",
       "    </tr>\n",
       "  </tbody>\n",
       "</table>\n",
       "</div>"
      ],
      "text/plain": [
       "   mass_npea  size_npear  malign_ratio  damage_size  exposed_area  \\\n",
       "0    4946.44      914.06       0.18479      54.5566  6.628345e+05   \n",
       "1    5613.85     1629.12       0.29019      51.5524  7.842271e+05   \n",
       "2   12421.10     3062.41       0.24654     154.1560  1.763575e+06   \n",
       "3    6830.77     2457.66       0.35979      56.8995  9.296623e+05   \n",
       "4   33407.80    12353.60       0.36978     219.0740  4.595871e+06   \n",
       "\n",
       "   std_dev_malign  err_malign  malign_penalty  damage_ratio  \n",
       "0         67.0525     2301.76              22       41.9554  \n",
       "1         80.1986     3235.00              48       40.7410  \n",
       "2        186.8590     4684.63              63       29.4778  \n",
       "3         92.7361     3211.93              42       38.5027  \n",
       "4        493.3370    13389.36             187       26.8449  "
      ]
     },
     "execution_count": 206,
     "metadata": {},
     "output_type": "execute_result"
    }
   ],
   "source": [
    "X_t = pd.read_csv('test.csv')\n",
    "X_t.head()\n"
   ]
  },
  {
   "cell_type": "code",
   "execution_count": 207,
   "metadata": {},
   "outputs": [
    {
     "data": {
      "text/plain": [
       "<bound method NDFrame.head of        tumor_size\n",
       "0        3.418762\n",
       "1        7.348026\n",
       "2        3.096391\n",
       "3       10.489805\n",
       "4       27.416072\n",
       "...           ...\n",
       "36579    6.980089\n",
       "36580    7.591675\n",
       "36581    7.315385\n",
       "36582    4.724118\n",
       "36583    3.169346\n",
       "\n",
       "[36584 rows x 1 columns]>"
      ]
     },
     "execution_count": 207,
     "metadata": {},
     "output_type": "execute_result"
    }
   ],
   "source": [
    "y_t = pd.read_csv('sample_submission.csv')\n",
    "y_t.head"
   ]
  },
  {
   "cell_type": "markdown",
   "metadata": {},
   "source": [
    "On voit ici qu'il n'ya pas de valeurs null. "
   ]
  },
  {
   "cell_type": "code",
   "execution_count": 208,
   "metadata": {},
   "outputs": [
    {
     "name": "stdout",
     "output_type": "stream",
     "text": [
      "<class 'pandas.core.frame.DataFrame'>\n",
      "RangeIndex: 9146 entries, 0 to 9145\n",
      "Data columns (total 10 columns):\n",
      " #   Column          Non-Null Count  Dtype  \n",
      "---  ------          --------------  -----  \n",
      " 0   mass_npea       9146 non-null   float64\n",
      " 1   size_npear      9146 non-null   float64\n",
      " 2   malign_ratio    9146 non-null   float64\n",
      " 3   damage_size     9146 non-null   float64\n",
      " 4   exposed_area    9146 non-null   float64\n",
      " 5   std_dev_malign  9146 non-null   float64\n",
      " 6   err_malign      9146 non-null   float64\n",
      " 7   malign_penalty  9146 non-null   int64  \n",
      " 8   damage_ratio    9146 non-null   float64\n",
      " 9   tumor_size      9146 non-null   float64\n",
      "dtypes: float64(9), int64(1)\n",
      "memory usage: 714.7 KB\n"
     ]
    }
   ],
   "source": [
    "#Description des données\n",
    "regression_train.info()\n"
   ]
  },
  {
   "cell_type": "code",
   "execution_count": 209,
   "metadata": {},
   "outputs": [
    {
     "data": {
      "text/plain": [
       "mass_npea         0\n",
       "size_npear        0\n",
       "malign_ratio      0\n",
       "damage_size       0\n",
       "exposed_area      0\n",
       "std_dev_malign    0\n",
       "err_malign        0\n",
       "malign_penalty    0\n",
       "damage_ratio      0\n",
       "tumor_size        0\n",
       "dtype: int64"
      ]
     },
     "execution_count": 209,
     "metadata": {},
     "output_type": "execute_result"
    }
   ],
   "source": [
    "#Est-ce qu'il y'a des valeurs manquantes? \n",
    "regression_train.isnull().sum()"
   ]
  },
  {
   "cell_type": "code",
   "execution_count": 210,
   "metadata": {},
   "outputs": [
    {
     "name": "stdout",
     "output_type": "stream",
     "text": [
      "mass_npea         8.311310e+03\n",
      "size_npear        2.211760e+03\n",
      "malign_ratio      2.661100e-01\n",
      "damage_size       7.703410e+01\n",
      "exposed_area      1.139238e+06\n",
      "std_dev_malign    9.202030e+01\n",
      "err_malign        3.460370e+03\n",
      "malign_penalty    3.300000e+01\n",
      "damage_ratio      3.684210e+01\n",
      "tumor_size        0.000000e+00\n",
      "Name: 949, dtype: float64\n"
     ]
    }
   ],
   "source": [
    "print(regression_train.loc[949,:])"
   ]
  },
  {
   "cell_type": "code",
   "execution_count": 211,
   "metadata": {},
   "outputs": [
    {
     "name": "stdout",
     "output_type": "stream",
     "text": [
      "Les lignes contenant un 0 sont: \n",
      "       mass_npea  size_npear  malign_ratio  damage_size  exposed_area  \\\n",
      "96      8993.44     3126.25       0.34761      90.1403  1.271112e+06   \n",
      "113     6185.42     1394.40       0.22543      66.8706  8.215469e+05   \n",
      "117     3473.80     1184.87       0.34108      27.3092  4.752986e+05   \n",
      "211    19155.90     4961.06       0.25898     226.0460  2.627052e+06   \n",
      "333    12047.30     2858.21       0.23724     145.5430  1.715849e+06   \n",
      "701     6387.60     1762.43       0.27591      35.8124  8.682936e+05   \n",
      "770    12796.60     2887.59       0.22565     160.7500  1.795759e+06   \n",
      "949     8311.31     2211.76       0.26611      77.0341  1.139238e+06   \n",
      "1072    9061.49     1926.35       0.21258      94.2186  1.278207e+06   \n",
      "1083    6355.88     1751.00       0.27549      68.1871  8.499504e+05   \n",
      "1207    4574.16      920.47       0.20123      41.1086  6.539223e+05   \n",
      "1307    8396.52     1872.11       0.22296      76.7535  1.185871e+06   \n",
      "1438    6108.28     2004.75       0.32820      46.0924  8.504838e+05   \n",
      "1464    7159.77     1749.41       0.24433      70.9976  9.852827e+05   \n",
      "1556    9430.39     3089.65       0.32762      99.9013  1.257365e+06   \n",
      "1958   10802.10     1970.39       0.18240     122.3910  1.498966e+06   \n",
      "2161    9012.21     2679.15       0.29728      88.3410  1.267072e+06   \n",
      "2415    4553.73      952.01       0.20906      40.5175  6.489005e+05   \n",
      "2955    7831.28     2007.76       0.25637      67.7796  1.110881e+06   \n",
      "3038    6361.62     1785.47       0.28066      58.0739  8.627103e+05   \n",
      "3071    8402.89     2628.44       0.31280      96.9871  1.190486e+06   \n",
      "3090    7379.12     1868.05       0.25315      67.4470  9.923328e+05   \n",
      "3215   11526.00     2401.06       0.20831     153.5060  1.596715e+06   \n",
      "3243   13139.80     2855.96       0.21735     166.2960  1.779482e+06   \n",
      "3261   13132.40     3115.31       0.23722     163.4990  1.836804e+06   \n",
      "3340    9304.44     2332.54       0.25069     103.1990  1.312977e+06   \n",
      "3755   12513.50     3530.61       0.28214     157.7730  1.772299e+06   \n",
      "3786   13052.20     3649.92       0.27964     174.0290  1.737447e+06   \n",
      "3906    4404.11     1622.74       0.36846      32.9420  6.040573e+05   \n",
      "4238   10340.60     2776.59       0.26851     130.5960  1.468392e+06   \n",
      "4726    7888.73     1768.04       0.22412      85.4278  1.059678e+06   \n",
      "4880   13643.20     3079.52       0.22571     151.2740  1.875618e+06   \n",
      "4907   10385.10     4018.65       0.38696      90.7923  1.440385e+06   \n",
      "5136   10631.90     4045.81       0.38053     105.0020  1.507881e+06   \n",
      "5624    7631.10     1697.63       0.22246      71.8118  1.083233e+06   \n",
      "5689   14857.30     5886.79       0.39622     192.8380  1.954497e+06   \n",
      "6007    5521.72     1360.62       0.24641      55.9758  7.119078e+05   \n",
      "6104   10687.80     3907.69       0.36562      99.5330  1.501930e+06   \n",
      "6111   11976.10     3917.38       0.32709     158.3820  1.680259e+06   \n",
      "6179    7365.12     1368.30       0.18578      79.1251  9.904764e+05   \n",
      "6242    7469.91     1316.87       0.17628      54.4423  1.044758e+06   \n",
      "6529   12914.80     3673.49       0.28444     176.0090  1.671973e+06   \n",
      "6547   10924.70     2875.63       0.26322     146.4400  1.474953e+06   \n",
      "6720    6621.41     1907.66       0.28810      62.7689  8.722892e+05   \n",
      "7297    8342.48     2884.41       0.34574      80.6870  1.106807e+06   \n",
      "7430    6964.63     1746.69       0.25079      70.4730  9.258912e+05   \n",
      "7489    6846.34     1643.67       0.24008      80.6534  8.992500e+05   \n",
      "7625   17323.60     3773.23       0.21780     179.5620  2.451304e+06   \n",
      "7712    8182.78     2433.90       0.29744      90.5481  1.118973e+06   \n",
      "7747    7932.62     1994.97       0.25148      69.8073  1.110612e+06   \n",
      "7882    9107.83     2051.08       0.22519     101.8400  1.292689e+06   \n",
      "8087    6305.15     1668.62       0.26464      65.0286  8.852923e+05   \n",
      "8441    5252.49     1164.45       0.22169      46.9678  7.525348e+05   \n",
      "8459   14070.00     2409.35       0.17124     161.3940  1.953933e+06   \n",
      "8670   14644.30     3629.03       0.24781     207.0140  2.004876e+06   \n",
      "8884    5435.54     1004.50       0.18480      48.9854  7.569444e+05   \n",
      "9041    7171.45     2788.99       0.38890      52.0168  9.478439e+05   \n",
      "9064    8637.05     3251.03       0.37640      93.2965  1.229239e+06   \n",
      "\n",
      "      std_dev_malign  err_malign  malign_penalty  damage_ratio  tumor_size  \n",
      "96          137.8820     3240.17              19       36.9694       0.000  \n",
      "113          79.9238     3231.48              20       39.3863       0.000  \n",
      "117          40.9381     1439.24               2       45.9023       0.000  \n",
      "211         296.0120     5743.30             197       23.1221       0.000  \n",
      "333         184.2100     5040.64              72       46.5464       0.000  \n",
      "701          84.2320     2670.51              15       44.1669       0.000  \n",
      "770         202.9100     5234.95              35       26.8711       0.000  \n",
      "949          92.0203     3460.37              33       36.8421       0.000  \n",
      "1072        152.4270     3809.91              14       34.1918       0.000  \n",
      "1083        101.7960     3047.21              16       39.0431       0.000  \n",
      "1207         57.2596     2189.52              14       42.8335       0.000  \n",
      "1307        110.6780     3995.53               7       34.6094       0.000  \n",
      "1438         75.1586     2690.04              93       46.5464       0.000  \n",
      "1464         90.0148     3119.78              11       39.7977       0.000  \n",
      "1556        148.7930     4345.75              54       33.4333       0.000  \n",
      "1958        141.4540     4460.47              70       30.6044       0.000  \n",
      "2161        131.8210     3641.72              24       38.3687       0.000  \n",
      "2415         60.7356     2698.95              14       42.0039       0.000  \n",
      "2955         91.8139     3418.21              19       39.1854       0.000  \n",
      "3038         75.3001     3353.26              23       46.5464       0.000  \n",
      "3071        114.4530     3555.89              91       36.8056       0.000  \n",
      "3090         98.8011     3500.57              41       37.2390       0.000  \n",
      "3215        202.0100     4353.29              72       30.4051       0.000  \n",
      "3243        198.7260     5250.94              93       27.7242       0.000  \n",
      "3261        238.2710     4633.50              57       46.5464       0.000  \n",
      "3340        140.7270     4091.73              48       33.4952       0.000  \n",
      "3755        174.4020     4732.63              33       28.6701       0.000  \n",
      "3786        228.9020     4617.00              19       28.9663       0.000  \n",
      "3906         59.4577     1479.90              33       44.4674       0.000  \n",
      "4238        154.3140     4322.15              46       32.3444       0.000  \n",
      "4726        129.6120     3496.92              10       37.3004       0.000  \n",
      "4880        223.3090     4839.18              22       28.7330       0.000  \n",
      "4907        152.2380     3890.02               0       35.6723      17.610  \n",
      "5136        138.4840     3799.71              53       34.4907       0.000  \n",
      "5624        110.3290     3401.21             113       38.5409       0.000  \n",
      "5689        243.9530     5192.50              80       26.0040       0.000  \n",
      "6007         84.4003     2952.19               2       37.6667       0.000  \n",
      "6104        132.2930     4097.22              34       33.5634       0.000  \n",
      "6111        152.6670     5106.07              36       28.2278       0.000  \n",
      "6179         89.1105     3228.45              23       38.3836       0.000  \n",
      "6242         73.4642     3575.25              22       40.3463       0.000  \n",
      "6529        208.2610     4178.96              52       46.5464       0.000  \n",
      "6547        162.3390     4359.35              54       31.5198       0.000  \n",
      "6720         97.8011     2778.85               0       38.5617      13.622  \n",
      "7297        137.5170     3616.70              32       46.5464       0.000  \n",
      "7430         95.4435     3700.36              26       46.5464       0.000  \n",
      "7489        114.4620     3421.45              43       46.5464       0.000  \n",
      "7625        242.2040     6996.33              77       46.5464       0.000  \n",
      "7712        105.6350     3908.51              19       35.1202       0.000  \n",
      "7747        115.5150     3623.06               4       35.7825       0.000  \n",
      "7882        133.8610     4175.31              46       33.6792       0.000  \n",
      "8087         90.9438     3279.76               1       39.0109       0.000  \n",
      "8441         69.9030     2894.23              18       40.3579       0.000  \n",
      "8459        225.4600     4706.10              34       28.4491       0.000  \n",
      "8670        259.5610     5050.93             171       25.7377       0.000  \n",
      "8884         67.4329     2929.71               1       41.5276       0.000  \n",
      "9041        115.1440     3610.83              21       46.5464       0.000  \n",
      "9064        107.7600     3591.20              28       36.1849       0.000  \n",
      "Nombre de lignes contenant un 0: 58\n",
      "Les colonnes contenant un 0 sont: \n",
      " Index(['malign_penalty', 'tumor_size'], dtype='object')\n"
     ]
    }
   ],
   "source": [
    "\n",
    "# #Est-ce qu'il y a des valeurs nulles ou NaN ?\n",
    "# print(\"Nombre de valeurs nulles:\", X_train.size-np.count_nonzero(X_train))\n",
    "\n",
    "#afficher les lignes où il y'a un zéro\n",
    "lignes_avec_zeros = regression_train[regression_train.eq(0).any(axis=1)]\n",
    "print(\"Les lignes contenant un 0 sont: \\n\",lignes_avec_zeros)\n",
    "print(\"Nombre de lignes contenant un 0:\", len(lignes_avec_zeros))\n",
    "\n",
    "colonnes_avec_zeros = regression_train.columns[regression_train.eq(0).any()]\n",
    "print(\"Les colonnes contenant un 0 sont: \\n\",colonnes_avec_zeros)"
   ]
  },
  {
   "cell_type": "markdown",
   "metadata": {},
   "source": [
    "On a décidé de ne pas supprimer les lignes où il y'a un zéro, car ils ne spécifient nul part que ce sont des fausses valeurs. De plus, cela ne représente que 56 lignes sur 9146.\n",
    "Cependant, cela reste incohérent --> le damage_size n'est pas nul pour les lignes où tumor_size est nul."
   ]
  },
  {
   "cell_type": "markdown",
   "metadata": {},
   "source": [
    "**Calcul de corrélation**\n",
    "On a 9 variables et on veut tester leur corrélation avec tumor_size."
   ]
  },
  {
   "cell_type": "code",
   "execution_count": 212,
   "metadata": {},
   "outputs": [
    {
     "data": {
      "image/png": "[encoded data removed]",
      "text/plain": [
       "<Figure size 1000x400 with 2 Axes>"
      ]
     },
     "metadata": {},
     "output_type": "display_data"
    }
   ],
   "source": [
    "#mass_npea\n",
    "#size_npear\n",
    "#malign_ratio\n",
    "#damage_size\n",
    "#exposed_area\n",
    "#std_dev_malign\n",
    "#err_malign\n",
    "#malign_penalty\n",
    "#damage_ratio\n",
    "\n",
    "import seaborn as sns\n",
    "\n",
    "sns.set(rc={'figure.figsize':(10,4)})\n",
    "\n",
    "train_corr = regression_train.corr()\n",
    "\n",
    "matrice = sns.heatmap(train_corr, xticklabels = train_corr.columns , \n",
    "                 yticklabels = train_corr.columns, cmap = 'coolwarm')"
   ]
  },
  {
   "cell_type": "markdown",
   "metadata": {},
   "source": [
    "On ne peut rien conclure de cette matrice.\n"
   ]
  },
  {
   "cell_type": "code",
   "execution_count": 213,
   "metadata": {},
   "outputs": [],
   "source": [
    "#Visualisation \n"
   ]
  },
  {
   "cell_type": "markdown",
   "metadata": {},
   "source": [
    "***2ème étape***\n",
    "Construction du modèle et apprentissage."
   ]
  },
  {
   "cell_type": "markdown",
   "metadata": {},
   "source": [
    "Preprocessing : normalisation des données"
   ]
  },
  {
   "cell_type": "code",
   "execution_count": 214,
   "metadata": {},
   "outputs": [],
   "source": [
    "# from sklearn.preprocessing import StandardScaler\n",
    "\n",
    "# scaler = StandardScaler()\n",
    "# X = scaler.fit_transform(X)\n",
    "# y = y.values.reshape(-1,1)"
   ]
  },
  {
   "cell_type": "markdown",
   "metadata": {},
   "source": [
    "***Modèle 1 : Régression linéaire***"
   ]
  },
  {
   "cell_type": "code",
   "execution_count": 215,
   "metadata": {},
   "outputs": [
    {
     "data": {
      "text/plain": [
       "1.0"
      ]
     },
     "execution_count": 215,
     "metadata": {},
     "output_type": "execute_result"
    }
   ],
   "source": [
    "from sklearn.linear_model import LinearRegression\n",
    "\n",
    "reg_lin = LinearRegression()\n",
    "reg_lin.fit(X, y)\n",
    "reg_lin.score(X_t, y_t)\n"
   ]
  },
  {
   "cell_type": "markdown",
   "metadata": {},
   "source": [
    "***Modèle 2 : Random Forest***"
   ]
  },
  {
   "cell_type": "code",
   "execution_count": 216,
   "metadata": {},
   "outputs": [
    {
     "name": "stderr",
     "output_type": "stream",
     "text": [
      "/Users/nada/miniconda3/envs/datacamp/lib/python3.10/site-packages/sklearn/base.py:1152: DataConversionWarning: A column-vector y was passed when a 1d array was expected. Please change the shape of y to (n_samples,), for example using ravel().\n",
      "  return fit_method(estimator, *args, **kwargs)\n"
     ]
    },
    {
     "data": {
      "text/plain": [
       "0.13919023897069382"
      ]
     },
     "execution_count": 216,
     "metadata": {},
     "output_type": "execute_result"
    }
   ],
   "source": [
    "from sklearn.ensemble import RandomForestRegressor\n",
    "\n",
    "random_forest = RandomForestRegressor()\n",
    "random_forest.fit(X,y)\n",
    "random_forest.score(X_t, y_t)"
   ]
  },
  {
   "cell_type": "markdown",
   "metadata": {},
   "source": [
    "***Modèle 3: Lasso regression***"
   ]
  },
  {
   "cell_type": "code",
   "execution_count": 217,
   "metadata": {},
   "outputs": [
    {
     "name": "stderr",
     "output_type": "stream",
     "text": [
      "/Users/nada/miniconda3/envs/datacamp/lib/python3.10/site-packages/sklearn/linear_model/_coordinate_descent.py:628: ConvergenceWarning: Objective did not converge. You might want to increase the number of iterations, check the scale of the features or consider increasing regularisation. Duality gap: 1.087e+05, tolerance: 3.388e+01\n",
      "  model = cd_fast.enet_coordinate_descent(\n"
     ]
    },
    {
     "data": {
      "text/plain": [
       "0.9747689264936691"
      ]
     },
     "execution_count": 217,
     "metadata": {},
     "output_type": "execute_result"
    }
   ],
   "source": [
    "from sklearn import linear_model\n",
    "lasso = linear_model.Lasso()\n",
    "lasso.fit(X,y)\n",
    "lasso.score(X_t, y_t)"
   ]
  },
  {
   "cell_type": "markdown",
   "metadata": {},
   "source": [
    "***Modèle 4: Polynomial regression***"
   ]
  },
  {
   "cell_type": "code",
   "execution_count": 218,
   "metadata": {},
   "outputs": [
    {
     "data": {
      "text/html": [
       "<style>#sk-container-id-2 {color: black;}#sk-container-id-2 pre{padding: 0;}#sk-container-id-2 div.sk-toggleable {background-color: white;}#sk-container-id-2 label.sk-toggleable__label {cursor: pointer;display: block;width: 100%;margin-bottom: 0;padding: 0.3em;box-sizing: border-box;text-align: center;}#sk-container-id-2 label.sk-toggleable__label-arrow:before {content: \"▸\";float: left;margin-right: 0.25em;color: #696969;}#sk-container-id-2 label.sk-toggleable__label-arrow:hover:before {color: black;}#sk-container-id-2 div.sk-estimator:hover label.sk-toggleable__label-arrow:before {color: black;}#sk-container-id-2 div.sk-toggleable__content {max-height: 0;max-width: 0;overflow: hidden;text-align: left;background-color: #f0f8ff;}#sk-container-id-2 div.sk-toggleable__content pre {margin: 0.2em;color: black;border-radius: 0.25em;background-color: #f0f8ff;}#sk-container-id-2 input.sk-toggleable__control:checked~div.sk-toggleable__content {max-height: 200px;max-width: 100%;overflow: auto;}#sk-container-id-2 input.sk-toggleable__control:checked~label.sk-toggleable__label-arrow:before {content: \"▾\";}#sk-container-id-2 div.sk-estimator input.sk-toggleable__control:checked~label.sk-toggleable__label {background-color: #d4ebff;}#sk-container-id-2 div.sk-label input.sk-toggleable__control:checked~label.sk-toggleable__label {background-color: #d4ebff;}#sk-container-id-2 input.sk-hidden--visually {border: 0;clip: rect(1px 1px 1px 1px);clip: rect(1px, 1px, 1px, 1px);height: 1px;margin: -1px;overflow: hidden;padding: 0;position: absolute;width: 1px;}#sk-container-id-2 div.sk-estimator {font-family: monospace;background-color: #f0f8ff;border: 1px dotted black;border-radius: 0.25em;box-sizing: border-box;margin-bottom: 0.5em;}#sk-container-id-2 div.sk-estimator:hover {background-color: #d4ebff;}#sk-container-id-2 div.sk-parallel-item::after {content: \"\";width: 100%;border-bottom: 1px solid gray;flex-grow: 1;}#sk-container-id-2 div.sk-label:hover label.sk-toggleable__label {background-color: #d4ebff;}#sk-container-id-2 div.sk-serial::before {content: \"\";position: absolute;border-left: 1px solid gray;box-sizing: border-box;top: 0;bottom: 0;left: 50%;z-index: 0;}#sk-container-id-2 div.sk-serial {display: flex;flex-direction: column;align-items: center;background-color: white;padding-right: 0.2em;padding-left: 0.2em;position: relative;}#sk-container-id-2 div.sk-item {position: relative;z-index: 1;}#sk-container-id-2 div.sk-parallel {display: flex;align-items: stretch;justify-content: center;background-color: white;position: relative;}#sk-container-id-2 div.sk-item::before, #sk-container-id-2 div.sk-parallel-item::before {content: \"\";position: absolute;border-left: 1px solid gray;box-sizing: border-box;top: 0;bottom: 0;left: 50%;z-index: -1;}#sk-container-id-2 div.sk-parallel-item {display: flex;flex-direction: column;z-index: 1;position: relative;background-color: white;}#sk-container-id-2 div.sk-parallel-item:first-child::after {align-self: flex-end;width: 50%;}#sk-container-id-2 div.sk-parallel-item:last-child::after {align-self: flex-start;width: 50%;}#sk-container-id-2 div.sk-parallel-item:only-child::after {width: 0;}#sk-container-id-2 div.sk-dashed-wrapped {border: 1px dashed gray;margin: 0 0.4em 0.5em 0.4em;box-sizing: border-box;padding-bottom: 0.4em;background-color: white;}#sk-container-id-2 div.sk-label label {font-family: monospace;font-weight: bold;display: inline-block;line-height: 1.2em;}#sk-container-id-2 div.sk-label-container {text-align: center;}#sk-container-id-2 div.sk-container {/* jupyter's `normalize.less` sets `[hidden] { display: none; }` but bootstrap.min.css set `[hidden] { display: none !important; }` so we also need the `!important` here to be able to override the default hidden behavior on the sphinx rendered scikit-learn.org. See: https://github.com/scikit-learn/scikit-learn/issues/21755 */display: inline-block !important;position: relative;}#sk-container-id-2 div.sk-text-repr-fallback {display: none;}</style><div id=\"sk-container-id-2\" class=\"sk-top-container\"><div class=\"sk-text-repr-fallback\"><pre>LinearRegression()</pre><b>In a Jupyter environment, please rerun this cell to show the HTML representation or trust the notebook. <br />On GitHub, the HTML representation is unable to render, please try loading this page with nbviewer.org.</b></div><div class=\"sk-container\" hidden><div class=\"sk-item\"><div class=\"sk-estimator sk-toggleable\"><input class=\"sk-toggleable__control sk-hidden--visually\" id=\"sk-estimator-id-2\" type=\"checkbox\" checked><label for=\"sk-estimator-id-2\" class=\"sk-toggleable__label sk-toggleable__label-arrow\">LinearRegression</label><div class=\"sk-toggleable__content\"><pre>LinearRegression()</pre></div></div></div></div></div>"
      ],
      "text/plain": [
       "LinearRegression()"
      ]
     },
     "execution_count": 218,
     "metadata": {},
     "output_type": "execute_result"
    }
   ],
   "source": [
    "from sklearn.preprocessing import PolynomialFeatures\n",
    "from sklearn.linear_model import LinearRegression\n",
    "\n",
    "#specify degree of 3 for polynomial regression model\n",
    "#include bias=False means don't force y-intercept to equal zero\n",
    "poly = PolynomialFeatures()\n",
    "\n",
    "#reshape data to work properly with sklearn\n",
    "poly_features = poly.fit_transform(X)\n",
    "\n",
    "#fit polynomial regression model\n",
    "poly_reg_model = LinearRegression()\n",
    "poly_reg_model.fit(poly_features, y)\n",
    "\n",
    "# print(poly_reg_model.intercept_, poly_reg_model.coef_)"
   ]
  },
  {
   "cell_type": "code",
   "execution_count": 219,
   "metadata": {},
   "outputs": [
    {
     "data": {
      "text/plain": [
       "0.5410446491425974"
      ]
     },
     "execution_count": 219,
     "metadata": {},
     "output_type": "execute_result"
    }
   ],
   "source": [
    "poly_reg_model.score(poly.fit_transform(X_t),y_t)"
   ]
  },
  {
   "cell_type": "code",
   "execution_count": 220,
   "metadata": {},
   "outputs": [],
   "source": [
    "#use model to make predictions on response variable\n",
    "y_predicted = poly_reg_model.predict(poly_features)"
   ]
  },
  {
   "cell_type": "markdown",
   "metadata": {},
   "source": [
    "***Modèle 5: ADA boost***"
   ]
  },
  {
   "cell_type": "code",
   "execution_count": 221,
   "metadata": {},
   "outputs": [
    {
     "name": "stderr",
     "output_type": "stream",
     "text": [
      "/Users/nada/miniconda3/envs/datacamp/lib/python3.10/site-packages/sklearn/utils/validation.py:1183: DataConversionWarning: A column-vector y was passed when a 1d array was expected. Please change the shape of y to (n_samples, ), for example using ravel().\n",
      "  y = column_or_1d(y, warn=True)\n"
     ]
    },
    {
     "data": {
      "text/plain": [
       "0.08834301822188895"
      ]
     },
     "execution_count": 221,
     "metadata": {},
     "output_type": "execute_result"
    }
   ],
   "source": [
    "from sklearn.ensemble import AdaBoostRegressor\n",
    "ada = AdaBoostRegressor(random_state=0)\n",
    "ada.fit(X,y)\n",
    "ada.score(X_t, y_t)"
   ]
  },
  {
   "cell_type": "markdown",
   "metadata": {},
   "source": [
    "***Modèle 6: Bagging***\n",
    "SVR REGRESSOR"
   ]
  },
  {
   "cell_type": "code",
   "execution_count": 222,
   "metadata": {},
   "outputs": [
    {
     "name": "stderr",
     "output_type": "stream",
     "text": [
      "/Users/nada/miniconda3/envs/datacamp/lib/python3.10/site-packages/sklearn/ensemble/_bagging.py:509: DataConversionWarning: A column-vector y was passed when a 1d array was expected. Please change the shape of y to (n_samples, ), for example using ravel().\n",
      "  return column_or_1d(y, warn=True)\n"
     ]
    },
    {
     "data": {
      "text/plain": [
       "-0.03667390045592622"
      ]
     },
     "execution_count": 222,
     "metadata": {},
     "output_type": "execute_result"
    }
   ],
   "source": [
    "from sklearn.ensemble import BaggingRegressor\n",
    "bagging = BaggingRegressor()\n",
    "bagging.fit(X,y)\n",
    "bagging.score(X_t, y_t)"
   ]
  },
  {
   "cell_type": "markdown",
   "metadata": {},
   "source": [
    "***Modèoe 7 : XG Boost*** "
   ]
  },
  {
   "cell_type": "code",
   "execution_count": 223,
   "metadata": {},
   "outputs": [
    {
     "name": "stderr",
     "output_type": "stream",
     "text": [
      "/Users/nada/miniconda3/envs/datacamp/lib/python3.10/site-packages/sklearn/ensemble/_gb.py:424: DataConversionWarning: A column-vector y was passed when a 1d array was expected. Please change the shape of y to (n_samples, ), for example using ravel().\n",
      "  y = column_or_1d(y, warn=True)\n"
     ]
    },
    {
     "data": {
      "text/plain": [
       "0.6546197961466"
      ]
     },
     "execution_count": 223,
     "metadata": {},
     "output_type": "execute_result"
    }
   ],
   "source": [
    "from sklearn.ensemble import GradientBoostingRegressor\n",
    "boosting = GradientBoostingRegressor()\n",
    "boosting.fit(X,y)\n",
    "boosting.score(X_t, y_t)"
   ]
  },
  {
   "cell_type": "markdown",
   "metadata": {},
   "source": [
    "***SVR***\n",
    "TESTER STANDARD SCALER"
   ]
  },
  {
   "cell_type": "code",
   "execution_count": 224,
   "metadata": {},
   "outputs": [
    {
     "name": "stderr",
     "output_type": "stream",
     "text": [
      "/Users/nada/miniconda3/envs/datacamp/lib/python3.10/site-packages/sklearn/utils/validation.py:1183: DataConversionWarning: A column-vector y was passed when a 1d array was expected. Please change the shape of y to (n_samples, ), for example using ravel().\n",
      "  y = column_or_1d(y, warn=True)\n"
     ]
    },
    {
     "ename": "KeyboardInterrupt",
     "evalue": "",
     "output_type": "error",
     "traceback": [
      "\u001b[0;31m---------------------------------------------------------------------------\u001b[0m",
      "\u001b[0;31mKeyboardInterrupt\u001b[0m                         Traceback (most recent call last)",
      "Cell \u001b[0;32mIn[224], line 3\u001b[0m\n\u001b[1;32m      1\u001b[0m \u001b[39mfrom\u001b[39;00m \u001b[39msklearn\u001b[39;00m\u001b[39m.\u001b[39;00m\u001b[39msvm\u001b[39;00m \u001b[39mimport\u001b[39;00m SVR\n\u001b[1;32m      2\u001b[0m svr \u001b[39m=\u001b[39m SVR()\n\u001b[0;32m----> 3\u001b[0m svr\u001b[39m.\u001b[39;49mfit(X,y)\n\u001b[1;32m      4\u001b[0m svr\u001b[39m.\u001b[39mscore(X_t, y_t)\n",
      "File \u001b[0;32m~/miniconda3/envs/datacamp/lib/python3.10/site-packages/sklearn/base.py:1152\u001b[0m, in \u001b[0;36m_fit_context.<locals>.decorator.<locals>.wrapper\u001b[0;34m(estimator, *args, **kwargs)\u001b[0m\n\u001b[1;32m   1145\u001b[0m     estimator\u001b[39m.\u001b[39m_validate_params()\n\u001b[1;32m   1147\u001b[0m \u001b[39mwith\u001b[39;00m config_context(\n\u001b[1;32m   1148\u001b[0m     skip_parameter_validation\u001b[39m=\u001b[39m(\n\u001b[1;32m   1149\u001b[0m         prefer_skip_nested_validation \u001b[39mor\u001b[39;00m global_skip_validation\n\u001b[1;32m   1150\u001b[0m     )\n\u001b[1;32m   1151\u001b[0m ):\n\u001b[0;32m-> 1152\u001b[0m     \u001b[39mreturn\u001b[39;00m fit_method(estimator, \u001b[39m*\u001b[39;49margs, \u001b[39m*\u001b[39;49m\u001b[39m*\u001b[39;49mkwargs)\n",
      "File \u001b[0;32m~/miniconda3/envs/datacamp/lib/python3.10/site-packages/sklearn/svm/_base.py:250\u001b[0m, in \u001b[0;36mBaseLibSVM.fit\u001b[0;34m(self, X, y, sample_weight)\u001b[0m\n\u001b[1;32m    247\u001b[0m     \u001b[39mprint\u001b[39m(\u001b[39m\"\u001b[39m\u001b[39m[LibSVM]\u001b[39m\u001b[39m\"\u001b[39m, end\u001b[39m=\u001b[39m\u001b[39m\"\u001b[39m\u001b[39m\"\u001b[39m)\n\u001b[1;32m    249\u001b[0m seed \u001b[39m=\u001b[39m rnd\u001b[39m.\u001b[39mrandint(np\u001b[39m.\u001b[39miinfo(\u001b[39m\"\u001b[39m\u001b[39mi\u001b[39m\u001b[39m\"\u001b[39m)\u001b[39m.\u001b[39mmax)\n\u001b[0;32m--> 250\u001b[0m fit(X, y, sample_weight, solver_type, kernel, random_seed\u001b[39m=\u001b[39;49mseed)\n\u001b[1;32m    251\u001b[0m \u001b[39m# see comment on the other call to np.iinfo in this file\u001b[39;00m\n\u001b[1;32m    253\u001b[0m \u001b[39mself\u001b[39m\u001b[39m.\u001b[39mshape_fit_ \u001b[39m=\u001b[39m X\u001b[39m.\u001b[39mshape \u001b[39mif\u001b[39;00m \u001b[39mhasattr\u001b[39m(X, \u001b[39m\"\u001b[39m\u001b[39mshape\u001b[39m\u001b[39m\"\u001b[39m) \u001b[39melse\u001b[39;00m (n_samples,)\n",
      "File \u001b[0;32m~/miniconda3/envs/datacamp/lib/python3.10/site-packages/sklearn/svm/_base.py:329\u001b[0m, in \u001b[0;36mBaseLibSVM._dense_fit\u001b[0;34m(self, X, y, sample_weight, solver_type, kernel, random_seed)\u001b[0m\n\u001b[1;32m    315\u001b[0m libsvm\u001b[39m.\u001b[39mset_verbosity_wrap(\u001b[39mself\u001b[39m\u001b[39m.\u001b[39mverbose)\n\u001b[1;32m    317\u001b[0m \u001b[39m# we don't pass **self.get_params() to allow subclasses to\u001b[39;00m\n\u001b[1;32m    318\u001b[0m \u001b[39m# add other parameters to __init__\u001b[39;00m\n\u001b[1;32m    319\u001b[0m (\n\u001b[1;32m    320\u001b[0m     \u001b[39mself\u001b[39m\u001b[39m.\u001b[39msupport_,\n\u001b[1;32m    321\u001b[0m     \u001b[39mself\u001b[39m\u001b[39m.\u001b[39msupport_vectors_,\n\u001b[1;32m    322\u001b[0m     \u001b[39mself\u001b[39m\u001b[39m.\u001b[39m_n_support,\n\u001b[1;32m    323\u001b[0m     \u001b[39mself\u001b[39m\u001b[39m.\u001b[39mdual_coef_,\n\u001b[1;32m    324\u001b[0m     \u001b[39mself\u001b[39m\u001b[39m.\u001b[39mintercept_,\n\u001b[1;32m    325\u001b[0m     \u001b[39mself\u001b[39m\u001b[39m.\u001b[39m_probA,\n\u001b[1;32m    326\u001b[0m     \u001b[39mself\u001b[39m\u001b[39m.\u001b[39m_probB,\n\u001b[1;32m    327\u001b[0m     \u001b[39mself\u001b[39m\u001b[39m.\u001b[39mfit_status_,\n\u001b[1;32m    328\u001b[0m     \u001b[39mself\u001b[39m\u001b[39m.\u001b[39m_num_iter,\n\u001b[0;32m--> 329\u001b[0m ) \u001b[39m=\u001b[39m libsvm\u001b[39m.\u001b[39;49mfit(\n\u001b[1;32m    330\u001b[0m     X,\n\u001b[1;32m    331\u001b[0m     y,\n\u001b[1;32m    332\u001b[0m     svm_type\u001b[39m=\u001b[39;49msolver_type,\n\u001b[1;32m    333\u001b[0m     sample_weight\u001b[39m=\u001b[39;49msample_weight,\n\u001b[1;32m    334\u001b[0m     \u001b[39m# TODO(1.4): Replace \"_class_weight\" with \"class_weight_\"\u001b[39;49;00m\n\u001b[1;32m    335\u001b[0m     class_weight\u001b[39m=\u001b[39;49m\u001b[39mgetattr\u001b[39;49m(\u001b[39mself\u001b[39;49m, \u001b[39m\"\u001b[39;49m\u001b[39m_class_weight\u001b[39;49m\u001b[39m\"\u001b[39;49m, np\u001b[39m.\u001b[39;49mempty(\u001b[39m0\u001b[39;49m)),\n\u001b[1;32m    336\u001b[0m     kernel\u001b[39m=\u001b[39;49mkernel,\n\u001b[1;32m    337\u001b[0m     C\u001b[39m=\u001b[39;49m\u001b[39mself\u001b[39;49m\u001b[39m.\u001b[39;49mC,\n\u001b[1;32m    338\u001b[0m     nu\u001b[39m=\u001b[39;49m\u001b[39mself\u001b[39;49m\u001b[39m.\u001b[39;49mnu,\n\u001b[1;32m    339\u001b[0m     probability\u001b[39m=\u001b[39;49m\u001b[39mself\u001b[39;49m\u001b[39m.\u001b[39;49mprobability,\n\u001b[1;32m    340\u001b[0m     degree\u001b[39m=\u001b[39;49m\u001b[39mself\u001b[39;49m\u001b[39m.\u001b[39;49mdegree,\n\u001b[1;32m    341\u001b[0m     shrinking\u001b[39m=\u001b[39;49m\u001b[39mself\u001b[39;49m\u001b[39m.\u001b[39;49mshrinking,\n\u001b[1;32m    342\u001b[0m     tol\u001b[39m=\u001b[39;49m\u001b[39mself\u001b[39;49m\u001b[39m.\u001b[39;49mtol,\n\u001b[1;32m    343\u001b[0m     cache_size\u001b[39m=\u001b[39;49m\u001b[39mself\u001b[39;49m\u001b[39m.\u001b[39;49mcache_size,\n\u001b[1;32m    344\u001b[0m     coef0\u001b[39m=\u001b[39;49m\u001b[39mself\u001b[39;49m\u001b[39m.\u001b[39;49mcoef0,\n\u001b[1;32m    345\u001b[0m     gamma\u001b[39m=\u001b[39;49m\u001b[39mself\u001b[39;49m\u001b[39m.\u001b[39;49m_gamma,\n\u001b[1;32m    346\u001b[0m     epsilon\u001b[39m=\u001b[39;49m\u001b[39mself\u001b[39;49m\u001b[39m.\u001b[39;49mepsilon,\n\u001b[1;32m    347\u001b[0m     max_iter\u001b[39m=\u001b[39;49m\u001b[39mself\u001b[39;49m\u001b[39m.\u001b[39;49mmax_iter,\n\u001b[1;32m    348\u001b[0m     random_seed\u001b[39m=\u001b[39;49mrandom_seed,\n\u001b[1;32m    349\u001b[0m )\n\u001b[1;32m    351\u001b[0m \u001b[39mself\u001b[39m\u001b[39m.\u001b[39m_warn_from_fit_status()\n",
      "File \u001b[0;32msklearn/svm/_libsvm.pyx:265\u001b[0m, in \u001b[0;36msklearn.svm._libsvm.fit\u001b[0;34m()\u001b[0m\n",
      "\u001b[0;31mKeyboardInterrupt\u001b[0m: "
     ]
    }
   ],
   "source": [
    "from sklearn.svm import SVR\n",
    "svr = SVR()\n",
    "svr.fit(X,y)\n",
    "svr.score(X_t, y_t)"
   ]
  },
  {
   "cell_type": "markdown",
   "metadata": {},
   "source": [
    "***Modèle 8: Neural Network***"
   ]
  },
  {
   "cell_type": "code",
   "execution_count": null,
   "metadata": {},
   "outputs": [],
   "source": [
    "import torch"
   ]
  },
  {
   "cell_type": "code",
   "execution_count": null,
   "metadata": {},
   "outputs": [],
   "source": [
    "#Xdim = X.size(1)"
   ]
  },
  {
   "cell_type": "code",
   "execution_count": null,
   "metadata": {},
   "outputs": [],
   "source": [
    "# netSeq(X_torch).dtype()\n",
    "# y_torch.view(-1,1).dtype()"
   ]
  },
  {
   "cell_type": "code",
   "execution_count": 229,
   "metadata": {},
   "outputs": [
    {
     "name": "stdout",
     "output_type": "stream",
     "text": [
      "iteration : 0, loss : 88.362548828125\n",
      "iteration : 1, loss : 76.78548431396484\n",
      "iteration : 2, loss : 67.82020568847656\n",
      "iteration : 3, loss : 60.87748718261719\n",
      "iteration : 4, loss : 55.50103759765625\n",
      "iteration : 5, loss : 51.3375129699707\n",
      "iteration : 6, loss : 48.11328887939453\n",
      "iteration : 7, loss : 45.6164436340332\n",
      "iteration : 8, loss : 43.682891845703125\n",
      "iteration : 9, loss : 42.185546875\n",
      "iteration : 10, loss : 41.02600860595703\n",
      "iteration : 11, loss : 40.1280517578125\n",
      "iteration : 12, loss : 39.432674407958984\n",
      "iteration : 13, loss : 38.89418029785156\n",
      "iteration : 14, loss : 38.4771614074707\n",
      "iteration : 15, loss : 38.154232025146484\n",
      "iteration : 16, loss : 37.904151916503906\n",
      "iteration : 17, loss : 37.71049499511719\n",
      "iteration : 18, loss : 37.56052017211914\n",
      "iteration : 19, loss : 37.44438171386719\n",
      "iteration : 20, loss : 37.35444641113281\n",
      "iteration : 21, loss : 37.28479766845703\n",
      "iteration : 22, loss : 37.230865478515625\n",
      "iteration : 23, loss : 37.189090728759766\n",
      "iteration : 24, loss : 37.1567497253418\n",
      "iteration : 25, loss : 37.13169860839844\n",
      "iteration : 26, loss : 37.1123046875\n",
      "iteration : 27, loss : 37.09728240966797\n",
      "iteration : 28, loss : 37.085655212402344\n",
      "iteration : 29, loss : 37.07664108276367\n",
      "iteration : 30, loss : 37.069671630859375\n",
      "iteration : 31, loss : 37.06426239013672\n",
      "iteration : 32, loss : 37.060081481933594\n",
      "iteration : 33, loss : 37.05684280395508\n",
      "iteration : 34, loss : 37.0543327331543\n",
      "iteration : 35, loss : 37.052391052246094\n",
      "iteration : 36, loss : 37.05088806152344\n",
      "iteration : 37, loss : 37.04972457885742\n",
      "iteration : 38, loss : 37.048824310302734\n",
      "iteration : 39, loss : 37.048118591308594\n",
      "iteration : 40, loss : 37.047576904296875\n",
      "iteration : 41, loss : 37.047157287597656\n",
      "iteration : 42, loss : 37.04683303833008\n",
      "iteration : 43, loss : 37.04658508300781\n",
      "iteration : 44, loss : 37.046390533447266\n",
      "iteration : 45, loss : 37.04623794555664\n",
      "iteration : 46, loss : 37.046119689941406\n",
      "iteration : 47, loss : 37.04603576660156\n",
      "iteration : 48, loss : 37.045963287353516\n",
      "iteration : 49, loss : 37.0459098815918\n"
     ]
    }
   ],
   "source": [
    "X_torch = torch.tensor(X.values).float()\n",
    "y_torch = torch.tensor(y.values).float()\n",
    "Xdim = X_torch.size(1)\n",
    "\n",
    "EPS = 1e-2\n",
    "EPOCHS=50\n",
    "#Création d'un réseau à 1 couche cachée avec le module séquentiel (remplace l'objet précédent)\n",
    "netSeq = torch.nn.Sequential(torch.nn.Linear(Xdim,5),torch.nn.Tanh(),torch.nn.Linear(5,1))\n",
    "mseloss = torch.nn.MSELoss()\n",
    "optim = torch.optim.SGD(params=netSeq.parameters(),lr=EPS) # extraction auto des paramètres :)\n",
    "\n",
    "for i in range(EPOCHS):\n",
    "    loss = mseloss(netSeq(X_torch),y_torch.view(-1,1))\n",
    "    print(f\"iteration : {i}, loss : {loss}\")\n",
    "    optim.zero_grad()\n",
    "    loss.backward()\n",
    "    optim.step()"
   ]
  },
  {
   "cell_type": "code",
   "execution_count": 230,
   "metadata": {},
   "outputs": [
    {
     "name": "stdout",
     "output_type": "stream",
     "text": [
      "Mean Squared Error: 10.666749954223633\n"
     ]
    }
   ],
   "source": [
    "X_torch_test = torch.tensor(X_t.values).float()\n",
    "y_torch_test = torch.tensor(y_t.values).float()\n",
    "\n",
    "output = netSeq(X_torch_test)\n",
    "mse = torch.nn.MSELoss()(output, y_torch_test)\n",
    "print(f'Mean Squared Error: {mse.item()}')"
   ]
  },
  {
   "cell_type": "code",
   "execution_count": 197,
   "metadata": {},
   "outputs": [
    {
     "name": "stdout",
     "output_type": "stream",
     "text": [
      "The tensorboard extension is already loaded. To reload it, use:\n",
      "  %reload_ext tensorboard\n"
     ]
    },
    {
     "data": {
      "text/plain": [
       "Reusing TensorBoard on port 6006 (pid 7168), started 1:13:35 ago. (Use '!kill 7168' to kill it.)"
      ]
     },
     "metadata": {},
     "output_type": "display_data"
    },
    {
     "data": {
      "text/html": [
       "\n",
       "      <iframe id=\"tensorboard-frame-e1c0e9eb17dd71e2\" width=\"100%\" height=\"800\" frameborder=\"0\">\n",
       "      </iframe>\n",
       "      <script>\n",
       "        (function() {\n",
       "          const frame = document.getElementById(\"tensorboard-frame-e1c0e9eb17dd71e2\");\n",
       "          const url = new URL(\"http://localhost\");\n",
       "          const port = 6006;\n",
       "          if (port) {\n",
       "            url.port = port;\n",
       "          }\n",
       "          frame.src = url;\n",
       "        })();\n",
       "      </script>\n",
       "    "
      ],
      "text/plain": [
       "<IPython.core.display.HTML object>"
      ]
     },
     "metadata": {},
     "output_type": "display_data"
    }
   ],
   "source": [
    "%load_ext tensorboard\n",
    "%tensorboard --logdir /tmp/logs\n",
    "from torch.utils.tensorboard import SummaryWriter\n",
    "# pour avoir les courbes qui s'affichent dans le notebook, \n",
    "from tensorboard import notebook\n"
   ]
  },
  {
   "cell_type": "code",
   "execution_count": 226,
   "metadata": {},
   "outputs": [
    {
     "name": "stdout",
     "output_type": "stream",
     "text": [
      "iteration : 0, loss : 113.37042236328125\n",
      "iteration : 1, loss : 96.15155792236328\n",
      "iteration : 2, loss : 82.81727600097656\n",
      "iteration : 3, loss : 72.49119567871094\n",
      "iteration : 4, loss : 64.49469757080078\n",
      "iteration : 5, loss : 58.302207946777344\n",
      "iteration : 6, loss : 53.506744384765625\n",
      "iteration : 7, loss : 49.79313659667969\n",
      "iteration : 8, loss : 46.91732406616211\n",
      "iteration : 9, loss : 44.69028854370117\n",
      "iteration : 10, loss : 42.96567153930664\n",
      "iteration : 11, loss : 41.63013458251953\n",
      "iteration : 12, loss : 40.59589385986328\n",
      "iteration : 13, loss : 39.79497146606445\n",
      "iteration : 14, loss : 39.174739837646484\n",
      "iteration : 15, loss : 38.694435119628906\n",
      "iteration : 16, loss : 38.322486877441406\n",
      "iteration : 17, loss : 38.034446716308594\n",
      "iteration : 18, loss : 37.8113899230957\n",
      "iteration : 19, loss : 37.63865661621094\n",
      "iteration : 20, loss : 37.5048942565918\n",
      "iteration : 21, loss : 37.401302337646484\n",
      "iteration : 22, loss : 37.32108688354492\n",
      "iteration : 23, loss : 37.25896072387695\n",
      "iteration : 24, loss : 37.21085739135742\n",
      "iteration : 25, loss : 37.17359924316406\n",
      "iteration : 26, loss : 37.144752502441406\n",
      "iteration : 27, loss : 37.12240982055664\n",
      "iteration : 28, loss : 37.10511016845703\n",
      "iteration : 29, loss : 37.091712951660156\n",
      "iteration : 30, loss : 37.081336975097656\n",
      "iteration : 31, loss : 37.07329559326172\n",
      "iteration : 32, loss : 37.06707763671875\n",
      "iteration : 33, loss : 37.062259674072266\n",
      "iteration : 34, loss : 37.058528900146484\n",
      "iteration : 35, loss : 37.05563735961914\n",
      "iteration : 36, loss : 37.05340576171875\n",
      "iteration : 37, loss : 37.051673889160156\n",
      "iteration : 38, loss : 37.05032730102539\n",
      "iteration : 39, loss : 37.04928970336914\n",
      "iteration : 40, loss : 37.04848861694336\n",
      "iteration : 41, loss : 37.0478630065918\n",
      "iteration : 42, loss : 37.04738235473633\n",
      "iteration : 43, loss : 37.0470085144043\n",
      "iteration : 44, loss : 37.046714782714844\n",
      "iteration : 45, loss : 37.04649353027344\n",
      "iteration : 46, loss : 37.04631423950195\n",
      "iteration : 47, loss : 37.046180725097656\n",
      "iteration : 48, loss : 37.046077728271484\n",
      "iteration : 49, loss : 37.04600143432617\n",
      "Selecting TensorBoard with logdir /tmp/logs (started 1:16:59 ago; port 6006, pid 7168).\n"
     ]
    },
    {
     "data": {
      "text/html": [
       "\n",
       "      <iframe id=\"tensorboard-frame-bb867640d170e7b6\" width=\"100%\" height=\"800\" frameborder=\"0\">\n",
       "      </iframe>\n",
       "      <script>\n",
       "        (function() {\n",
       "          const frame = document.getElementById(\"tensorboard-frame-bb867640d170e7b6\");\n",
       "          const url = new URL(\"http://localhost\");\n",
       "          const port = 6006;\n",
       "          if (port) {\n",
       "            url.port = port;\n",
       "          }\n",
       "          frame.src = url;\n",
       "        })();\n",
       "      </script>\n",
       "    "
      ],
      "text/plain": [
       "<IPython.core.display.HTML object>"
      ]
     },
     "metadata": {},
     "output_type": "display_data"
    }
   ],
   "source": [
    "summary = SummaryWriter(f\"/tmp/logs/test/{netSeq}/\") # on peut ajouter un timestamp ou des paramètres\n",
    "\n",
    "    # optim = torch.optim.SGD(params=netSeq.parameters(),lr=EPS) \n",
    "    # for i in range(EPOCHS):\n",
    "    #     cumloss = 0\n",
    "    #     for bx, by in loader:\n",
    "    #         loss = mseloss(model(housing_x),housing_y.view(-1,1))\n",
    "    #         optim.zero_grad()\n",
    "    #         loss.backward()\n",
    "    #         optim.step()  \n",
    "    #         cumloss+= loss.item()\n",
    "    #     summary.add_scalar(f\"loss\",cumloss,i) # c'est ici qu'on fait le lien\n",
    "\n",
    "EPS = 1e-2\n",
    "EPOCHS=50\n",
    "#Création d'un réseau à 1 couche cachée avec le module séquentiel (remplace l'objet précédent)\n",
    "netSeq = torch.nn.Sequential(torch.nn.Linear(Xdim,5),torch.nn.Tanh(),torch.nn.Linear(5,1))\n",
    "mseloss = torch.nn.MSELoss()\n",
    "optim = torch.optim.SGD(params=netSeq.parameters(),lr=EPS) # extraction auto des paramètres :)\n",
    "\n",
    "cumloss = 0\n",
    "for i in range(EPOCHS):\n",
    "    loss = mseloss(netSeq(X_torch),y_torch.view(-1,1))\n",
    "    print(f\"iteration : {i}, loss : {loss}\")\n",
    "    optim.zero_grad()\n",
    "    loss.backward()\n",
    "    optim.step()\n",
    "    cumloss+= loss.item()\n",
    "    summary.add_scalar(f\"loss\",cumloss,i)\n",
    "notebook.display()"
   ]
  },
  {
   "cell_type": "markdown",
   "metadata": {},
   "source": []
  },
  {
   "cell_type": "markdown",
   "metadata": {},
   "source": []
  }
 ],
 "metadata": {
  "kernelspec": {
   "display_name": "general",
   "language": "python",
   "name": "python3"
  },
  "language_info": {
   "codemirror_mode": {
    "name": "ipython",
    "version": 3
   },
   "file_extension": ".py",
   "mimetype": "text/x-python",
   "name": "python",
   "nbconvert_exporter": "python",
   "pygments_lexer": "ipython3",
   "version": "3.10.13"
  },
  "orig_nbformat": 4
 },
 "nbformat": 4,
 "nbformat_minor": 2
}
